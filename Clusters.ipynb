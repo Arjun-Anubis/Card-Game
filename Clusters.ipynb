{
 "cells": [
  {
   "cell_type": "code",
   "execution_count": 1,
   "metadata": {},
   "outputs": [],
   "source": [
    "import pandas as pd\n",
    "from numpy import *\n",
    "from functools import reduce\n",
    "df = pd.read_csv(\"iris.csv\")"
   ]
  },
  {
   "cell_type": "code",
   "execution_count": 18,
   "metadata": {},
   "outputs": [],
   "source": [
    "def shuffle(deck):\n",
    "    length = len(deck)\n",
    "    s_d = []\n",
    "    while len(s_d) < length:\n",
    "        a = random.randint(0,length)\n",
    "        if deck[a] not in s_d:\n",
    "            s_d.append(deck[a])\n",
    "        print(len(s_d))\n",
    "\n",
    "    return s_d"
   ]
  },
  {
   "cell_type": "code",
   "execution_count": 26,
   "metadata": {},
   "outputs": [
    {
     "name": "stdout",
     "output_type": "stream",
     "text": [
      "1\n"
     ]
    },
    {
     "ename": "ValueError",
     "evalue": "The truth value of an array with more than one element is ambiguous. Use a.any() or a.all()",
     "output_type": "error",
     "traceback": [
      "\u001b[1;31m---------------------------------------------------------------------------\u001b[0m",
      "\u001b[1;31mValueError\u001b[0m                                Traceback (most recent call last)",
      "\u001b[1;32m<ipython-input-26-e6473aa5ffeb>\u001b[0m in \u001b[0;36m<module>\u001b[1;34m\u001b[0m\n\u001b[0;32m      3\u001b[0m \u001b[1;31m#ms=list(ms.values)\u001b[0m\u001b[1;33m\u001b[0m\u001b[1;33m\u001b[0m\u001b[1;33m\u001b[0m\u001b[0m\n\u001b[0;32m      4\u001b[0m \u001b[1;31m#ms = shuffle(ms)\u001b[0m\u001b[1;33m\u001b[0m\u001b[1;33m\u001b[0m\u001b[1;33m\u001b[0m\u001b[0m\n\u001b[1;32m----> 5\u001b[1;33m \u001b[0mshuffle\u001b[0m\u001b[1;33m(\u001b[0m\u001b[0mlist\u001b[0m\u001b[1;33m(\u001b[0m\u001b[0mms\u001b[0m\u001b[1;33m.\u001b[0m\u001b[0mvalues\u001b[0m\u001b[1;33m)\u001b[0m\u001b[1;33m)\u001b[0m\u001b[1;33m\u001b[0m\u001b[1;33m\u001b[0m\u001b[0m\n\u001b[0m",
      "\u001b[1;32m<ipython-input-18-635fd8d7c293>\u001b[0m in \u001b[0;36mshuffle\u001b[1;34m(deck)\u001b[0m\n\u001b[0;32m      4\u001b[0m     \u001b[1;32mwhile\u001b[0m \u001b[0mlen\u001b[0m\u001b[1;33m(\u001b[0m\u001b[0ms_d\u001b[0m\u001b[1;33m)\u001b[0m \u001b[1;33m<\u001b[0m \u001b[0mlength\u001b[0m\u001b[1;33m:\u001b[0m\u001b[1;33m\u001b[0m\u001b[1;33m\u001b[0m\u001b[0m\n\u001b[0;32m      5\u001b[0m         \u001b[0ma\u001b[0m \u001b[1;33m=\u001b[0m \u001b[0mrandom\u001b[0m\u001b[1;33m.\u001b[0m\u001b[0mrandint\u001b[0m\u001b[1;33m(\u001b[0m\u001b[1;36m0\u001b[0m\u001b[1;33m,\u001b[0m\u001b[0mlength\u001b[0m\u001b[1;33m)\u001b[0m\u001b[1;33m\u001b[0m\u001b[1;33m\u001b[0m\u001b[0m\n\u001b[1;32m----> 6\u001b[1;33m         \u001b[1;32mif\u001b[0m \u001b[0mdeck\u001b[0m\u001b[1;33m[\u001b[0m\u001b[0ma\u001b[0m\u001b[1;33m]\u001b[0m \u001b[1;32mnot\u001b[0m \u001b[1;32min\u001b[0m \u001b[0ms_d\u001b[0m\u001b[1;33m:\u001b[0m\u001b[1;33m\u001b[0m\u001b[1;33m\u001b[0m\u001b[0m\n\u001b[0m\u001b[0;32m      7\u001b[0m             \u001b[0ms_d\u001b[0m\u001b[1;33m.\u001b[0m\u001b[0mappend\u001b[0m\u001b[1;33m(\u001b[0m\u001b[0mdeck\u001b[0m\u001b[1;33m[\u001b[0m\u001b[0ma\u001b[0m\u001b[1;33m]\u001b[0m\u001b[1;33m)\u001b[0m\u001b[1;33m\u001b[0m\u001b[1;33m\u001b[0m\u001b[0m\n\u001b[0;32m      8\u001b[0m         \u001b[0mprint\u001b[0m\u001b[1;33m(\u001b[0m\u001b[0mlen\u001b[0m\u001b[1;33m(\u001b[0m\u001b[0ms_d\u001b[0m\u001b[1;33m)\u001b[0m\u001b[1;33m)\u001b[0m\u001b[1;33m\u001b[0m\u001b[1;33m\u001b[0m\u001b[0m\n",
      "\u001b[1;31mValueError\u001b[0m: The truth value of an array with more than one element is ambiguous. Use a.any() or a.all()"
     ]
    }
   ],
   "source": [
    "ms = df.copy()\n",
    "#ms = [list(i) for i in list(ms.values)]\n",
    "#ms=list(ms.values)\n",
    "#ms = shuffle(ms)\n",
    "shuffle(list(ms.values))"
   ]
  },
  {
   "cell_type": "code",
   "execution_count": 13,
   "metadata": {},
   "outputs": [
    {
     "data": {
      "text/plain": [
       "[[5.1, 3.5, 1.4, 0.2, 'setosa'],\n",
       " [4.9, 3.0, 1.4, 0.2, 'setosa'],\n",
       " [4.7, 3.2, 1.3, 0.2, 'setosa'],\n",
       " [4.6, 3.1, 1.5, 0.2, 'setosa'],\n",
       " [5.0, 3.6, 1.4, 0.2, 'setosa'],\n",
       " [5.4, 3.9, 1.7, 0.4, 'setosa'],\n",
       " [4.6, 3.4, 1.4, 0.3, 'setosa'],\n",
       " [5.0, 3.4, 1.5, 0.2, 'setosa'],\n",
       " [4.4, 2.9, 1.4, 0.2, 'setosa'],\n",
       " [4.9, 3.1, 1.5, 0.1, 'setosa'],\n",
       " [5.4, 3.7, 1.5, 0.2, 'setosa'],\n",
       " [4.8, 3.4, 1.6, 0.2, 'setosa'],\n",
       " [4.8, 3.0, 1.4, 0.1, 'setosa'],\n",
       " [4.3, 3.0, 1.1, 0.1, 'setosa'],\n",
       " [5.8, 4.0, 1.2, 0.2, 'setosa'],\n",
       " [5.7, 4.4, 1.5, 0.4, 'setosa'],\n",
       " [5.4, 3.9, 1.3, 0.4, 'setosa'],\n",
       " [5.1, 3.5, 1.4, 0.3, 'setosa'],\n",
       " [5.7, 3.8, 1.7, 0.3, 'setosa'],\n",
       " [5.1, 3.8, 1.5, 0.3, 'setosa'],\n",
       " [5.4, 3.4, 1.7, 0.2, 'setosa'],\n",
       " [5.1, 3.7, 1.5, 0.4, 'setosa'],\n",
       " [4.6, 3.6, 1.0, 0.2, 'setosa'],\n",
       " [5.1, 3.3, 1.7, 0.5, 'setosa'],\n",
       " [4.8, 3.4, 1.9, 0.2, 'setosa'],\n",
       " [5.0, 3.0, 1.6, 0.2, 'setosa'],\n",
       " [5.0, 3.4, 1.6, 0.4, 'setosa'],\n",
       " [5.2, 3.5, 1.5, 0.2, 'setosa'],\n",
       " [5.2, 3.4, 1.4, 0.2, 'setosa'],\n",
       " [4.7, 3.2, 1.6, 0.2, 'setosa'],\n",
       " [4.8, 3.1, 1.6, 0.2, 'setosa'],\n",
       " [5.4, 3.4, 1.5, 0.4, 'setosa'],\n",
       " [5.2, 4.1, 1.5, 0.1, 'setosa'],\n",
       " [5.5, 4.2, 1.4, 0.2, 'setosa'],\n",
       " [4.9, 3.1, 1.5, 0.1, 'setosa'],\n",
       " [5.0, 3.2, 1.2, 0.2, 'setosa'],\n",
       " [5.5, 3.5, 1.3, 0.2, 'setosa'],\n",
       " [4.9, 3.1, 1.5, 0.1, 'setosa'],\n",
       " [4.4, 3.0, 1.3, 0.2, 'setosa'],\n",
       " [5.1, 3.4, 1.5, 0.2, 'setosa'],\n",
       " [5.0, 3.5, 1.3, 0.3, 'setosa'],\n",
       " [4.5, 2.3, 1.3, 0.3, 'setosa'],\n",
       " [4.4, 3.2, 1.3, 0.2, 'setosa'],\n",
       " [5.0, 3.5, 1.6, 0.6, 'setosa'],\n",
       " [5.1, 3.8, 1.9, 0.4, 'setosa'],\n",
       " [4.8, 3.0, 1.4, 0.3, 'setosa'],\n",
       " [5.1, 3.8, 1.6, 0.2, 'setosa'],\n",
       " [4.6, 3.2, 1.4, 0.2, 'setosa'],\n",
       " [5.3, 3.7, 1.5, 0.2, 'setosa'],\n",
       " [5.0, 3.3, 1.4, 0.2, 'setosa'],\n",
       " [7.0, 3.2, 4.7, 1.4, 'versicolor'],\n",
       " [6.4, 3.2, 4.5, 1.5, 'versicolor'],\n",
       " [6.9, 3.1, 4.9, 1.5, 'versicolor'],\n",
       " [5.5, 2.3, 4.0, 1.3, 'versicolor'],\n",
       " [6.5, 2.8, 4.6, 1.5, 'versicolor'],\n",
       " [5.7, 2.8, 4.5, 1.3, 'versicolor'],\n",
       " [6.3, 3.3, 4.7, 1.6, 'versicolor'],\n",
       " [4.9, 2.4, 3.3, 1.0, 'versicolor'],\n",
       " [6.6, 2.9, 4.6, 1.3, 'versicolor'],\n",
       " [5.2, 2.7, 3.9, 1.4, 'versicolor'],\n",
       " [5.0, 2.0, 3.5, 1.0, 'versicolor'],\n",
       " [5.9, 3.0, 4.2, 1.5, 'versicolor'],\n",
       " [6.0, 2.2, 4.0, 1.0, 'versicolor'],\n",
       " [6.1, 2.9, 4.7, 1.4, 'versicolor'],\n",
       " [5.6, 2.9, 3.6, 1.3, 'versicolor'],\n",
       " [6.7, 3.1, 4.4, 1.4, 'versicolor'],\n",
       " [5.6, 3.0, 4.5, 1.5, 'versicolor'],\n",
       " [5.8, 2.7, 4.1, 1.0, 'versicolor'],\n",
       " [6.2, 2.2, 4.5, 1.5, 'versicolor'],\n",
       " [5.6, 2.5, 3.9, 1.1, 'versicolor'],\n",
       " [5.9, 3.2, 4.8, 1.8, 'versicolor'],\n",
       " [6.1, 2.8, 4.0, 1.3, 'versicolor'],\n",
       " [6.3, 2.5, 4.9, 1.5, 'versicolor'],\n",
       " [6.1, 2.8, 4.7, 1.2, 'versicolor'],\n",
       " [6.4, 2.9, 4.3, 1.3, 'versicolor'],\n",
       " [6.6, 3.0, 4.4, 1.4, 'versicolor'],\n",
       " [6.8, 2.8, 4.8, 1.4, 'versicolor'],\n",
       " [6.7, 3.0, 5.0, 1.7, 'versicolor'],\n",
       " [6.0, 2.9, 4.5, 1.5, 'versicolor'],\n",
       " [5.7, 2.6, 3.5, 1.0, 'versicolor'],\n",
       " [5.5, 2.4, 3.8, 1.1, 'versicolor'],\n",
       " [5.5, 2.4, 3.7, 1.0, 'versicolor'],\n",
       " [5.8, 2.7, 3.9, 1.2, 'versicolor'],\n",
       " [6.0, 2.7, 5.1, 1.6, 'versicolor'],\n",
       " [5.4, 3.0, 4.5, 1.5, 'versicolor'],\n",
       " [6.0, 3.4, 4.5, 1.6, 'versicolor'],\n",
       " [6.7, 3.1, 4.7, 1.5, 'versicolor'],\n",
       " [6.3, 2.3, 4.4, 1.3, 'versicolor'],\n",
       " [5.6, 3.0, 4.1, 1.3, 'versicolor'],\n",
       " [5.5, 2.5, 4.0, 1.3, 'versicolor'],\n",
       " [5.5, 2.6, 4.4, 1.2, 'versicolor'],\n",
       " [6.1, 3.0, 4.6, 1.4, 'versicolor'],\n",
       " [5.8, 2.6, 4.0, 1.2, 'versicolor'],\n",
       " [5.0, 2.3, 3.3, 1.0, 'versicolor'],\n",
       " [5.6, 2.7, 4.2, 1.3, 'versicolor'],\n",
       " [5.7, 3.0, 4.2, 1.2, 'versicolor'],\n",
       " [5.7, 2.9, 4.2, 1.3, 'versicolor'],\n",
       " [6.2, 2.9, 4.3, 1.3, 'versicolor'],\n",
       " [5.1, 2.5, 3.0, 1.1, 'versicolor'],\n",
       " [5.7, 2.8, 4.1, 1.3, 'versicolor'],\n",
       " [6.3, 3.3, 6.0, 2.5, 'virginica'],\n",
       " [5.8, 2.7, 5.1, 1.9, 'virginica'],\n",
       " [7.1, 3.0, 5.9, 2.1, 'virginica'],\n",
       " [6.3, 2.9, 5.6, 1.8, 'virginica'],\n",
       " [6.5, 3.0, 5.8, 2.2, 'virginica'],\n",
       " [7.6, 3.0, 6.6, 2.1, 'virginica'],\n",
       " [4.9, 2.5, 4.5, 1.7, 'virginica'],\n",
       " [7.3, 2.9, 6.3, 1.8, 'virginica'],\n",
       " [6.7, 2.5, 5.8, 1.8, 'virginica'],\n",
       " [7.2, 3.6, 6.1, 2.5, 'virginica'],\n",
       " [6.5, 3.2, 5.1, 2.0, 'virginica'],\n",
       " [6.4, 2.7, 5.3, 1.9, 'virginica'],\n",
       " [6.8, 3.0, 5.5, 2.1, 'virginica'],\n",
       " [5.7, 2.5, 5.0, 2.0, 'virginica'],\n",
       " [5.8, 2.8, 5.1, 2.4, 'virginica'],\n",
       " [6.4, 3.2, 5.3, 2.3, 'virginica'],\n",
       " [6.5, 3.0, 5.5, 1.8, 'virginica'],\n",
       " [7.7, 3.8, 6.7, 2.2, 'virginica'],\n",
       " [7.7, 2.6, 6.9, 2.3, 'virginica'],\n",
       " [6.0, 2.2, 5.0, 1.5, 'virginica'],\n",
       " [6.9, 3.2, 5.7, 2.3, 'virginica'],\n",
       " [5.6, 2.8, 4.9, 2.0, 'virginica'],\n",
       " [7.7, 2.8, 6.7, 2.0, 'virginica'],\n",
       " [6.3, 2.7, 4.9, 1.8, 'virginica'],\n",
       " [6.7, 3.3, 5.7, 2.1, 'virginica'],\n",
       " [7.2, 3.2, 6.0, 1.8, 'virginica'],\n",
       " [6.2, 2.8, 4.8, 1.8, 'virginica'],\n",
       " [6.1, 3.0, 4.9, 1.8, 'virginica'],\n",
       " [6.4, 2.8, 5.6, 2.1, 'virginica'],\n",
       " [7.2, 3.0, 5.8, 1.6, 'virginica'],\n",
       " [7.4, 2.8, 6.1, 1.9, 'virginica'],\n",
       " [7.9, 3.8, 6.4, 2.0, 'virginica'],\n",
       " [6.4, 2.8, 5.6, 2.2, 'virginica'],\n",
       " [6.3, 2.8, 5.1, 1.5, 'virginica'],\n",
       " [6.1, 2.6, 5.6, 1.4, 'virginica'],\n",
       " [7.7, 3.0, 6.1, 2.3, 'virginica'],\n",
       " [6.3, 3.4, 5.6, 2.4, 'virginica'],\n",
       " [6.4, 3.1, 5.5, 1.8, 'virginica'],\n",
       " [6.0, 3.0, 4.8, 1.8, 'virginica'],\n",
       " [6.9, 3.1, 5.4, 2.1, 'virginica'],\n",
       " [6.7, 3.1, 5.6, 2.4, 'virginica'],\n",
       " [6.9, 3.1, 5.1, 2.3, 'virginica'],\n",
       " [5.8, 2.7, 5.1, 1.9, 'virginica'],\n",
       " [6.8, 3.2, 5.9, 2.3, 'virginica'],\n",
       " [6.7, 3.3, 5.7, 2.5, 'virginica'],\n",
       " [6.7, 3.0, 5.2, 2.3, 'virginica'],\n",
       " [6.3, 2.5, 5.0, 1.9, 'virginica'],\n",
       " [6.5, 3.0, 5.2, 2.0, 'virginica'],\n",
       " [6.2, 3.4, 5.4, 2.3, 'virginica'],\n",
       " [5.9, 3.0, 5.1, 1.8, 'virginica']]"
      ]
     },
     "execution_count": 13,
     "metadata": {},
     "output_type": "execute_result"
    }
   ],
   "source": [
    "ms"
   ]
  },
  {
   "cell_type": "code",
   "execution_count": null,
   "metadata": {},
   "outputs": [],
   "source": [
    "find_mean = lambda daf : [my_mean(list(daf[item])) for item in list(daf.columns)[:-1]]\n",
    "def ed(l1, l2):\n",
    "    intermed = [i - j for i,j in zip(l1,l2)]\n",
    "    intermed = [i**2 for i in intermed]\n",
    "    dist=reduce(lambda x, y:x+y, intermed)\n",
    "    return sqrt(dist)\n",
    "my_mean = lambda x : sum(x)/len(x)"
   ]
  },
  {
   "cell_type": "code",
   "execution_count": null,
   "metadata": {},
   "outputs": [],
   "source": [
    "c1"
   ]
  },
  {
   "cell_type": "code",
   "execution_count": null,
   "metadata": {},
   "outputs": [],
   "source": [
    "c2"
   ]
  },
  {
   "cell_type": "code",
   "execution_count": null,
   "metadata": {},
   "outputs": [],
   "source": [
    "c3"
   ]
  },
  {
   "cell_type": "code",
   "execution_count": null,
   "metadata": {},
   "outputs": [],
   "source": [
    "c1 = ms[random.randint(0,151)]\n",
    "c1"
   ]
  },
  {
   "cell_type": "code",
   "execution_count": null,
   "metadata": {},
   "outputs": [],
   "source": [
    "c2 = ms[random.randint(0,151)]\n",
    "c2"
   ]
  },
  {
   "cell_type": "code",
   "execution_count": null,
   "metadata": {},
   "outputs": [],
   "source": [
    "c3 = ms[random.randint(0,151)]\n",
    "c3"
   ]
  },
  {
   "cell_type": "code",
   "execution_count": null,
   "metadata": {},
   "outputs": [],
   "source": [
    "cluster1 = [item for item in ms if ed(item[:-1],c1) < ed(item[:-1],c2) and ed(item[:-1],c1) < ed(item[:-1],c3)]"
   ]
  },
  {
   "cell_type": "code",
   "execution_count": null,
   "metadata": {},
   "outputs": [],
   "source": [
    "cluster2 = [item for item in ms if ed(item[:-1],c2) < ed(item[:-1],c1) and ed(item[:-1],c2) < ed(item[:-1],c3)]"
   ]
  },
  {
   "cell_type": "code",
   "execution_count": null,
   "metadata": {},
   "outputs": [],
   "source": [
    "cluster3 = [item for item in ms if ed(item[:-1],c3) < ed(item[:-1],c2) and ed(item[:-1],c3) < ed(item[:-1],c1)]"
   ]
  },
  {
   "cell_type": "code",
   "execution_count": null,
   "metadata": {},
   "outputs": [],
   "source": [
    "c1 = find_mean(pd.DataFrame(cluster1))"
   ]
  },
  {
   "cell_type": "code",
   "execution_count": null,
   "metadata": {},
   "outputs": [],
   "source": [
    "c2 = find_mean(pd.DataFrame(cluster2))"
   ]
  },
  {
   "cell_type": "code",
   "execution_count": null,
   "metadata": {},
   "outputs": [],
   "source": [
    "c3 = find_mean(pd.DataFrame(cluster3))"
   ]
  },
  {
   "cell_type": "code",
   "execution_count": null,
   "metadata": {},
   "outputs": [],
   "source": [
    "cluster1 = [item for item in ms if ed(item[:-1],c1) < ed(item[:-1],c2) and ed(item[:-1],c1) < ed(item[:-1],c3)]"
   ]
  },
  {
   "cell_type": "code",
   "execution_count": null,
   "metadata": {},
   "outputs": [],
   "source": [
    "cluster2 = [item for item in ms if ed(item[:-1],c2) < ed(item[:-1],c1) and ed(item[:-1],c2) < ed(item[:-1],c3)]"
   ]
  },
  {
   "cell_type": "code",
   "execution_count": null,
   "metadata": {},
   "outputs": [],
   "source": [
    "cluster3 = [item for item in ms if ed(item[:-1],c3) < ed(item[:-1],c2) and ed(item[:-1],c3) < ed(item[:-1],c1)]"
   ]
  },
  {
   "cell_type": "code",
   "execution_count": null,
   "metadata": {},
   "outputs": [],
   "source": [
    "len(cluster1)"
   ]
  },
  {
   "cell_type": "code",
   "execution_count": null,
   "metadata": {},
   "outputs": [],
   "source": [
    "len(cluster2)"
   ]
  },
  {
   "cell_type": "code",
   "execution_count": null,
   "metadata": {},
   "outputs": [],
   "source": [
    "len(cluster3)"
   ]
  },
  {
   "cell_type": "code",
   "execution_count": null,
   "metadata": {},
   "outputs": [],
   "source": []
  },
  {
   "cell_type": "code",
   "execution_count": null,
   "metadata": {},
   "outputs": [],
   "source": [
    "for i in range (1000):\n",
    "    c1 = find_mean(pd.DataFrame(cluster1))\n",
    "    c2 = find_mean(pd.DataFrame(cluster2))\n",
    "    c3 = find_mean(pd.DataFrame(cluster3))\n",
    "    cluster1 = [item for item in ms if ed(item[:-1],c1) < ed(item[:-1],c2) and ed(item[:-1],c1) < ed(item[:-1],c3)]\n",
    "    cluster2 = [item for item in ms if ed(item[:-1],c2) < ed(item[:-1],c1) and ed(item[:-1],c2) < ed(item[:-1],c3)]\n",
    "    cluster3 = [item for item in ms if ed(item[:-1],c3) < ed(item[:-1],c2) and ed(item[:-1],c3) < ed(item[:-1],c1)]\n",
    "    print(f\"Cluster 1: {len(cluster1)}, Cluster 2: {len(cluster2)}, Cluster 3: {len(cluster3)}\")\n",
    "    #print(f\"C 1: {c1}, C 2: {c2}, C 3: {c3}\")\n",
    "print(\"Done\")"
   ]
  },
  {
   "cell_type": "code",
   "execution_count": null,
   "metadata": {},
   "outputs": [],
   "source": []
  },
  {
   "cell_type": "code",
   "execution_count": null,
   "metadata": {},
   "outputs": [],
   "source": []
  },
  {
   "cell_type": "code",
   "execution_count": null,
   "metadata": {},
   "outputs": [],
   "source": []
  },
  {
   "cell_type": "code",
   "execution_count": null,
   "metadata": {},
   "outputs": [],
   "source": []
  }
 ],
 "metadata": {
  "kernelspec": {
   "display_name": "Python 3",
   "language": "python",
   "name": "python3"
  },
  "language_info": {
   "codemirror_mode": {
    "name": "ipython",
    "version": 3
   },
   "file_extension": ".py",
   "mimetype": "text/x-python",
   "name": "python",
   "nbconvert_exporter": "python",
   "pygments_lexer": "ipython3",
   "version": "3.7.3"
  }
 },
 "nbformat": 4,
 "nbformat_minor": 2
}
